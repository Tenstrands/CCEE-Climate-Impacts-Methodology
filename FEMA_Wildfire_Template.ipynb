{
 "cells": [
  {
   "cell_type": "markdown",
   "id": "5ef9cbe9",
   "metadata": {},
   "source": [
    "# FEMA Wildfire Data Analysis for CCEE Whitepaper"
   ]
  },
  {
   "cell_type": "markdown",
   "id": "1888c48f",
   "metadata": {},
   "source": [
    "### Dataset and Library Imports"
   ]
  },
  {
   "cell_type": "code",
   "execution_count": 3,
   "id": "fc94c413-9180-4758-a053-52fcb2bd6462",
   "metadata": {},
   "outputs": [],
   "source": [
    "import pandas as pd\n",
    "from utils import *\n",
    "master = pd.read_csv(\"../datasets/equity.csv\")\n",
    "fire_risk = pd.read_csv(\"../datasets/fema.csv\")"
   ]
  },
  {
   "cell_type": "markdown",
   "id": "afdc93c1",
   "metadata": {},
   "source": [
    "### Filtering Data for Relevant Columns"
   ]
  },
  {
   "cell_type": "markdown",
   "id": "b7b89e1f",
   "metadata": {},
   "source": [
    "Combined the FEMA dataset with the California school district dataset to create a singular master dataset. Cleaned the dataset by correcting for missing values, type errors and selecting the relevant columns. At this point the primary dataset contains 936 rows, one for each California school district. Each column either represents an indictor (i.e. County or district name) or the corresponding wildfire risk."
   ]
  },
  {
   "cell_type": "code",
   "execution_count": 4,
   "id": "8473de15",
   "metadata": {},
   "outputs": [
    {
     "data": {
      "text/html": [
       "<div>\n",
       "<style scoped>\n",
       "    .dataframe tbody tr th:only-of-type {\n",
       "        vertical-align: middle;\n",
       "    }\n",
       "\n",
       "    .dataframe tbody tr th {\n",
       "        vertical-align: top;\n",
       "    }\n",
       "\n",
       "    .dataframe thead th {\n",
       "        text-align: right;\n",
       "    }\n",
       "</style>\n",
       "<table border=\"1\" class=\"dataframe\">\n",
       "  <thead>\n",
       "    <tr style=\"text-align: right;\">\n",
       "      <th></th>\n",
       "      <th>County</th>\n",
       "      <th>WFIR_RISKR</th>\n",
       "      <th>District Name</th>\n",
       "      <th>Number of Schools</th>\n",
       "      <th>Student Enrollment</th>\n",
       "    </tr>\n",
       "  </thead>\n",
       "  <tbody>\n",
       "    <tr>\n",
       "      <th>0</th>\n",
       "      <td>Alameda</td>\n",
       "      <td>Relatively Moderate</td>\n",
       "      <td>Alameda Unified</td>\n",
       "      <td>19</td>\n",
       "      <td>9,155</td>\n",
       "    </tr>\n",
       "    <tr>\n",
       "      <th>1</th>\n",
       "      <td>Alameda</td>\n",
       "      <td>Relatively Moderate</td>\n",
       "      <td>Albany City Unified</td>\n",
       "      <td>7</td>\n",
       "      <td>3,637</td>\n",
       "    </tr>\n",
       "    <tr>\n",
       "      <th>2</th>\n",
       "      <td>Alameda</td>\n",
       "      <td>Relatively Moderate</td>\n",
       "      <td>Berkeley Unified</td>\n",
       "      <td>18</td>\n",
       "      <td>9,438</td>\n",
       "    </tr>\n",
       "    <tr>\n",
       "      <th>3</th>\n",
       "      <td>Alameda</td>\n",
       "      <td>Relatively Moderate</td>\n",
       "      <td>Castro Valley Unified</td>\n",
       "      <td>16</td>\n",
       "      <td>9,454</td>\n",
       "    </tr>\n",
       "    <tr>\n",
       "      <th>4</th>\n",
       "      <td>Alameda</td>\n",
       "      <td>Relatively Moderate</td>\n",
       "      <td>Dublin Unified</td>\n",
       "      <td>16</td>\n",
       "      <td>13,004</td>\n",
       "    </tr>\n",
       "    <tr>\n",
       "      <th>5</th>\n",
       "      <td>Alameda</td>\n",
       "      <td>Relatively Moderate</td>\n",
       "      <td>Emery Unified</td>\n",
       "      <td>3</td>\n",
       "      <td>676</td>\n",
       "    </tr>\n",
       "    <tr>\n",
       "      <th>6</th>\n",
       "      <td>Alameda</td>\n",
       "      <td>Relatively Moderate</td>\n",
       "      <td>Fremont Unified</td>\n",
       "      <td>41</td>\n",
       "      <td>32,706</td>\n",
       "    </tr>\n",
       "    <tr>\n",
       "      <th>7</th>\n",
       "      <td>Alameda</td>\n",
       "      <td>Relatively Moderate</td>\n",
       "      <td>Hayward Unified</td>\n",
       "      <td>34</td>\n",
       "      <td>19,171</td>\n",
       "    </tr>\n",
       "    <tr>\n",
       "      <th>8</th>\n",
       "      <td>Alameda</td>\n",
       "      <td>Relatively Moderate</td>\n",
       "      <td>Livermore Valley Joint Unified</td>\n",
       "      <td>19</td>\n",
       "      <td>13,298</td>\n",
       "    </tr>\n",
       "    <tr>\n",
       "      <th>9</th>\n",
       "      <td>Alameda</td>\n",
       "      <td>Relatively Moderate</td>\n",
       "      <td>Mountain House Elementary</td>\n",
       "      <td>1</td>\n",
       "      <td>22</td>\n",
       "    </tr>\n",
       "  </tbody>\n",
       "</table>\n",
       "</div>"
      ],
      "text/plain": [
       "    County           WFIR_RISKR                   District Name  \\\n",
       "0  Alameda  Relatively Moderate                 Alameda Unified   \n",
       "1  Alameda  Relatively Moderate             Albany City Unified   \n",
       "2  Alameda  Relatively Moderate                Berkeley Unified   \n",
       "3  Alameda  Relatively Moderate           Castro Valley Unified   \n",
       "4  Alameda  Relatively Moderate                  Dublin Unified   \n",
       "5  Alameda  Relatively Moderate                   Emery Unified   \n",
       "6  Alameda  Relatively Moderate                 Fremont Unified   \n",
       "7  Alameda  Relatively Moderate                 Hayward Unified   \n",
       "8  Alameda  Relatively Moderate  Livermore Valley Joint Unified   \n",
       "9  Alameda  Relatively Moderate       Mountain House Elementary   \n",
       "\n",
       "  Number of Schools Student Enrollment   \n",
       "0                19               9,155  \n",
       "1                 7               3,637  \n",
       "2                18               9,438  \n",
       "3                16               9,454  \n",
       "4                16              13,004  \n",
       "5                 3                 676  \n",
       "6                41              32,706  \n",
       "7                34              19,171  \n",
       "8                19              13,298  \n",
       "9                 1                  22  "
      ]
     },
     "execution_count": 4,
     "metadata": {},
     "output_type": "execute_result"
    }
   ],
   "source": [
    "filtered = fire_risk[[\"COUNTY\",\"WFIR_RISKR\"]]\n",
    "joined_df = filtered.merge(master, left_on='COUNTY', right_on='County')\n",
    "filtered_wildfires = joined_df[[\"County\",\"WFIR_RISKR\", \"District Name\", \"Number of Schools\", \"Student Enrollment \"]]\n",
    "\n",
    "# first 10 rows of filtered FEMA wildfire dataset\n",
    "filtered_wildfires.head(10)"
   ]
  },
  {
   "cell_type": "markdown",
   "id": "dbe77ec1",
   "metadata": {},
   "source": [
    "### Split Dataset into High, Medium, and Low Risk"
   ]
  },
  {
   "cell_type": "markdown",
   "id": "d476acc4",
   "metadata": {},
   "source": [
    "Calculated/collected the number of counties that had a risk level of High, Medium, and Low. We then repeated this process for the total number of districts, schools and students."
   ]
  },
  {
   "cell_type": "code",
   "execution_count": 5,
   "id": "d5892343-677b-40d3-9ebe-f2165272cdb4",
   "metadata": {},
   "outputs": [],
   "source": [
    "# high risk\n",
    "high_wild = filtered_wildfires[filtered_wildfires['WFIR_RISKR'].str.contains('High')]\n",
    "\n",
    "# moderate risk\n",
    "med_wild = filtered_wildfires[filtered_wildfires['WFIR_RISKR'].str.contains('Moderate')]\n",
    "\n",
    "# low risk\n",
    "low_wild = filtered_wildfires[filtered_wildfires['WFIR_RISKR'].str.contains('Low')]\n",
    "low_wild = low_wild[~low_wild.iloc[:, 3].str.contains('-')]"
   ]
  },
  {
   "cell_type": "markdown",
   "id": "cf620756",
   "metadata": {},
   "source": [
    "### Print Results for Each Risk Category"
   ]
  },
  {
   "cell_type": "code",
   "execution_count": 6,
   "id": "3d0973f4-ac7c-4b84-83c2-18b9eb876369",
   "metadata": {},
   "outputs": [
    {
     "name": "stdout",
     "output_type": "stream",
     "text": [
      "High FEMA Wildfire Risk:\n",
      "649 districts\n",
      "31 counties\n",
      "7319 schools\n",
      "4135548 students\n"
     ]
    }
   ],
   "source": [
    "print('High FEMA Wildfire Risk:')\n",
    "print(high_wild.shape[0], 'districts')\n",
    "print(high_wild[\"County\"].nunique(), 'counties')\n",
    "print(sum(int_fixer(high_wild[\"Number of Schools\"])), 'schools')\n",
    "print(sum(int_fixer(high_wild[\"Student Enrollment \"])), 'students')"
   ]
  },
  {
   "cell_type": "code",
   "execution_count": 7,
   "id": "161ea0d2-d752-45f3-8fba-3c6edac96d62",
   "metadata": {},
   "outputs": [
    {
     "name": "stdout",
     "output_type": "stream",
     "text": [
      "Med FEMA Wildfire Risk:\n",
      "216 districts\n",
      "17 counties\n",
      "2109 schools\n",
      "989130 students\n"
     ]
    }
   ],
   "source": [
    "print('Med FEMA Wildfire Risk:')\n",
    "print(med_wild.shape[0], 'districts')\n",
    "print(med_wild[\"County\"].nunique(), 'counties')\n",
    "print(sum(int_fixer(med_wild[\"Number of Schools\"])), 'schools')\n",
    "print(sum(int_fixer(med_wild[\"Student Enrollment \"])), 'students')"
   ]
  },
  {
   "cell_type": "code",
   "execution_count": 8,
   "id": "a5369a46-880e-4e4a-9b65-6ae8715396d6",
   "metadata": {},
   "outputs": [
    {
     "name": "stdout",
     "output_type": "stream",
     "text": [
      "Low FEMA Wildfire Risk:\n",
      "71 districts\n",
      "10 counties\n",
      "642 schools\n",
      "301140 students\n"
     ]
    }
   ],
   "source": [
    "print('Low FEMA Wildfire Risk:')\n",
    "print(low_wild.shape[0], 'districts')\n",
    "print(low_wild[\"County\"].nunique(), 'counties')\n",
    "print(sum(int_fixer(low_wild[\"Number of Schools\"])), 'schools')\n",
    "print(sum(int_fixer(low_wild[\"Student Enrollment \"])), 'students')"
   ]
  }
 ],
 "metadata": {
  "kernelspec": {
   "display_name": "ts_ci",
   "language": "python",
   "name": "python3"
  },
  "language_info": {
   "codemirror_mode": {
    "name": "ipython",
    "version": 3
   },
   "file_extension": ".py",
   "mimetype": "text/x-python",
   "name": "python",
   "nbconvert_exporter": "python",
   "pygments_lexer": "ipython3",
   "version": "3.12.5"
  }
 },
 "nbformat": 4,
 "nbformat_minor": 5
}
