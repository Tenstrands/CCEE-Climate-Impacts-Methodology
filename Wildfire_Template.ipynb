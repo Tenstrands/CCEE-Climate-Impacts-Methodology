{
 "cells": [
  {
   "cell_type": "markdown",
   "metadata": {},
   "source": [
    "# Extreme Heat Data Analysis for CCEE Whitepaper"
   ]
  },
  {
   "cell_type": "markdown",
   "metadata": {},
   "source": [
    "## Python Library and Data Imports"
   ]
  },
  {
   "cell_type": "code",
   "execution_count": 1,
   "metadata": {},
   "outputs": [],
   "source": [
    "import pandas as pd\n",
    "from utils import *\n",
    "fires = pd.read_csv('../datasets/wildfires.csv')\n",
    "school_data = pd.read_csv('../datasets/equity.csv')"
   ]
  },
  {
   "cell_type": "markdown",
   "metadata": {},
   "source": [
    "### Data Merging, Cleaning, and Filtering"
   ]
  },
  {
   "cell_type": "markdown",
   "metadata": {},
   "source": [
    "Merged school data and wildfire to create a singular master spreadsheet, then filtered the master sheet to include rows where we saw a change in probability."
   ]
  },
  {
   "cell_type": "code",
   "execution_count": 2,
   "metadata": {},
   "outputs": [],
   "source": [
    "fire_master = pd.merge(school_data, fires, left_on='County', right_on='County Name')\n",
    "\n",
    "# Step 2: Filter the DataFrame where 'Change in Probability?' equals 1\n",
    "fire_master = fire_master[fire_master['Change in Probability?'] == 1]\n",
    "\n",
    "fire_master[\"Student Enrollment \"] = int_fixer(fire_master[\"Student Enrollment \"])\n",
    "fire_master[\"Number of Schools\"] = int_fixer(fire_master[\"Number of Schools\"])\n",
    "\n",
    "# Master dataset for wildfire data (Using CalAdapt)"
   ]
  },
  {
   "cell_type": "markdown",
   "metadata": {},
   "source": [
    "### Notable Metrics"
   ]
  },
  {
   "cell_type": "markdown",
   "metadata": {},
   "source": [
    "Calculate and display the number of districts, counties, schools, and students where the expected wildfire probability increased between 2025 and 2055. This increase is the difference between each county’s 2025 wildfire probability and their 2055 wildfire probability."
   ]
  },
  {
   "cell_type": "code",
   "execution_count": 3,
   "metadata": {},
   "outputs": [
    {
     "name": "stdout",
     "output_type": "stream",
     "text": [
      "Number of districts where expected wildfire probability increased between 2025 and 2055: 350\n",
      "Number of counties where expected wildfire probability increased between 2025 and 2055: 25\n",
      "Number of students in areas where expected wildfire probability increased between 2025 and 2055: 774103\n",
      "Number of schools in areas where expected wildfire probability increased between 2025 and 2055: 1832\n"
     ]
    }
   ],
   "source": [
    "# number of districts where expected wildfire probability increased\n",
    "num_districts = fire_master.shape[0]\n",
    "print('Number of districts where expected wildfire probability increased between 2025 and 2055:', num_districts)\n",
    "\n",
    "# number of counties where expected wildfire probability increased\n",
    "num_counties = fire_master['County'].nunique() \n",
    "print('Number of counties where expected wildfire probability increased between 2025 and 2055:', num_counties)\n",
    "\n",
    "# number of students in areas where expected wildfire probability increased\n",
    "total_students = fire_master['Student Enrollment '].sum()\n",
    "print('Number of students in areas where expected wildfire probability increased between 2025 and 2055:', total_students)\n",
    "\n",
    "# number of schools in areas where expected wildfire probability increased\n",
    "total_schools = fire_master['Number of Schools'].sum()\n",
    "print('Number of schools in areas where expected wildfire probability increased between 2025 and 2055:', total_schools)"
   ]
  }
 ],
 "metadata": {
  "kernelspec": {
   "display_name": "ts_ci",
   "language": "python",
   "name": "python3"
  },
  "language_info": {
   "codemirror_mode": {
    "name": "ipython",
    "version": 3
   },
   "file_extension": ".py",
   "mimetype": "text/x-python",
   "name": "python",
   "nbconvert_exporter": "python",
   "pygments_lexer": "ipython3",
   "version": "3.12.5"
  }
 },
 "nbformat": 4,
 "nbformat_minor": 2
}
