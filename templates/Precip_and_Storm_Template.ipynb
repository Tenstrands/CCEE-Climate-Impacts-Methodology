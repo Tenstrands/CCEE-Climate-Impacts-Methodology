{
 "cells": [
  {
   "cell_type": "markdown",
   "id": "3900c057",
   "metadata": {},
   "source": [
    "# Precipitation and Storms Data Analysis for CCEE Whitepaper"
   ]
  },
  {
   "cell_type": "markdown",
   "id": "ae08bf90",
   "metadata": {},
   "source": [
    "### Dataset and Library Imports"
   ]
  },
  {
   "cell_type": "code",
   "execution_count": 4,
   "id": "144327c4-8468-418b-aae3-036e87dbc80b",
   "metadata": {},
   "outputs": [],
   "source": [
    "import pandas as pd\n",
    "from utils import *\n",
    "\n",
    "# extract the data sheets\n",
    "school_data = pd.read_csv('../datasets/equity.csv')\n",
    "storms_precip = pd.read_csv('../datasets/storms.csv')"
   ]
  },
  {
   "cell_type": "markdown",
   "id": "11ed0a19-d391-43f0-9138-edd3dc537257",
   "metadata": {},
   "source": [
    "### Data Cleaning"
   ]
  },
  {
   "cell_type": "code",
   "execution_count": 5,
   "id": "da16368a-9380-4972-995f-e9777d18bb08",
   "metadata": {},
   "outputs": [
    {
     "data": {
      "text/plain": [
       "Index(['CDS Code', 'County', 'County Superintendent (CCESSA) Region',\n",
       "       'Geographical Lead Region', 'District Name', 'Abbreviation',\n",
       "       'District Type', 'Grade Levels', 'Number of Schools',\n",
       "       'High School Partner District if Elementary',\n",
       "       'Total # of Jurisdictions Per School District',\n",
       "       'Jurisdiction Name\\n(list on separate line for each jurisdiction)',\n",
       "       'Student Enrollment ', 'Size of District',\n",
       "       'Total Teaching Positions (FTE)', '% Unduplicated ', '% FRM ',\n",
       "       '% English Learners', '% Students Receiving Special Education Services',\n",
       "       '% Students of Color', 'Expense of Education per ADA ',\n",
       "       '# of Title 1 Schools', '% of Title 1 Schools',\n",
       "       'Average Pollution Burden', 'Average Pollution Burden Score'],\n",
       "      dtype='object')"
      ]
     },
     "execution_count": 5,
     "metadata": {},
     "output_type": "execute_result"
    }
   ],
   "source": [
    "#simplified School_Data file\n",
    "simplified_table = school_data.iloc[:, 1:26]\n",
    "simplified_table.columns"
   ]
  },
  {
   "cell_type": "code",
   "execution_count": 6,
   "id": "1e1544f9-2833-44f7-b34f-3e8d8d467f11",
   "metadata": {},
   "outputs": [
    {
     "data": {
      "text/plain": [
       "Index(['County', 'Climate Biome(s)', 'CDPH Climate Impact Regions',\n",
       "       'Storm Threshold (in)',\n",
       "       'Modeled Historical Baseline 1950-1999 (1975) Storm Events (per yr)',\n",
       "       '2020-2029 (2025) Storm Events (per yr)',\n",
       "       '2030-2039 (2035) Storm Events (per yr)',\n",
       "       '2040-2049 (2045) Storm Events (per yr)',\n",
       "       '2050-2059 (2055) Storm Events (per yr)'],\n",
       "      dtype='object')"
      ]
     },
     "execution_count": 6,
     "metadata": {},
     "output_type": "execute_result"
    }
   ],
   "source": [
    "wanted = storms_precip['Modeled Historical Baseline 1950-1999 (1975) Annual Avg Precip (in)']\n",
    "# unwanted columns\n",
    "not_wanted_avg = storms_precip.filter(regex='Avg').columns.values.tolist()\n",
    "not_wanted_storm = storms_precip.filter(regex='Storm').columns.values.tolist()\n",
    "not_wanted_diff = storms_precip.filter(regex='Dif').columns.values.tolist()\n",
    "\n",
    "#splitting up the data into two different charts\n",
    "#precipitation --> average might be more useful for grouping \n",
    "precip = storms_precip.drop(not_wanted_avg, axis = 1)\n",
    "precip = precip.drop(not_wanted_storm, axis = 1)\n",
    "precip = precip.rename({'County Name': 'County'}, axis='columns')\n",
    "precip['Baseline'] = wanted\n",
    "\n",
    "storm = storms_precip.drop(not_wanted_avg, axis = 1)\n",
    "storm = storm.drop(not_wanted_diff, axis = 1)\n",
    "storm = storm.rename({'County Name': 'County'}, axis='columns')\n",
    "storm.columns"
   ]
  },
  {
   "cell_type": "code",
   "execution_count": 7,
   "id": "8bd50a02-bc45-4ce9-b887-54b0109fc610",
   "metadata": {},
   "outputs": [],
   "source": [
    "data = storms_precip.copy()\n",
    "data = data.drop(not_wanted_avg, axis = 1)\n",
    "data['Precip Baseline'] = wanted\n",
    "data = data.drop('Storm Threshold (in)', axis = 1)\n",
    "data\n",
    "\n",
    "biomes = data['Climate Biome(s)']\n",
    "data['biomes'] = biomes.str.split(',')\n",
    "data= data.drop('Climate Biome(s)', axis =1)\n",
    "data = data.explode('biomes')\n",
    "data = data.reset_index().drop('index', axis = 1)\n",
    "data['biomes'] = data['biomes'].str.strip()"
   ]
  },
  {
   "cell_type": "markdown",
   "id": "8e6170a4-5e49-4737-994e-19c6d9bd0812",
   "metadata": {},
   "source": [
    "## Vulnerability Score for Counties Based on Precipitation/Storm Events and School district information\n",
    "\n",
    "***Below is the calulation and code for finding a vulnerability score. Used in the CCEE White paper as well as clasifying risks on the static maps. This information was caluclated based on the master School Csv file as well as the storm Precipitation file.***"
   ]
  },
  {
   "cell_type": "markdown",
   "id": "d5f9b713",
   "metadata": {},
   "source": [
    "Took both data sets of the Precipitation/ storm data and the County school information and combined them into a larger data set. Choose the equity feature from the County School information, in this case, % of Title One schools.\n",
    "Generalized this information to find the percentage of Title One schools in each County rather than the district\n",
    "Adding the total number of Title One Schools in the county / total number of schools in the County."
   ]
  },
  {
   "cell_type": "code",
   "execution_count": 8,
   "id": "a0a4fe35-4275-48e2-8605-c99022c26154",
   "metadata": {},
   "outputs": [
    {
     "name": "stderr",
     "output_type": "stream",
     "text": [
      "/var/folders/dv/l2nd8t1935qg0dz8vg__3m980000gn/T/ipykernel_72660/1206397741.py:17: DeprecationWarning: DataFrameGroupBy.apply operated on the grouping columns. This behavior is deprecated, and in a future version of pandas the grouping columns will be excluded from the operation. Either pass `include_groups=False` to exclude the groupings or explicitly select the grouping columns after groupby to silence this warning.\n",
      "  g_cout['% Unduplicated '] = simplified_table.groupby('County').apply(\n"
     ]
    }
   ],
   "source": [
    "# DATA PREPED\n",
    "data_1 = storms_precip.copy()\n",
    "data_1 = data_1.drop(not_wanted_avg, axis = 1)\n",
    "data_1['Precip Baseline'] = wanted\n",
    "data_1 = data_1.drop('Storm Threshold (in)', axis = 1)\n",
    "\n",
    "# Cleaning\n",
    "simplified_table['# of Title 1 Schools'] = simplified_table['# of Title 1 Schools'].replace({',':'','-':''}, regex=True).astype(int)\n",
    "simplified_table['Number of Schools'] = simplified_table['Number of Schools'].replace({',':'','-':''}, regex=True).astype(int)\n",
    "simplified_table['Student Enrollment '] = simplified_table['Student Enrollment '].replace({',':''}, regex=True).astype(int)\n",
    "simplified_table['% Unduplicated ' ] = simplified_table['% Unduplicated '].replace({'%': ''}, regex=True).astype(float)\n",
    "\n",
    "# grouping by County\n",
    "g_cout = simplified_table[['County','# of Title 1 Schools','Number of Schools']].groupby('County').sum()\n",
    "\n",
    "# Calculate the % of Unduplicated students in the whole county\n",
    "g_cout['% Unduplicated '] = simplified_table.groupby('County').apply(\n",
    "    lambda x: (x['% Unduplicated '] * x['Student Enrollment ']).sum() / x['Student Enrollment '].sum()\n",
    ")\n",
    "g_cout = g_cout.reset_index()\n",
    "\n",
    "data_1 = data_1.rename({'County Name': 'County'}, axis='columns')\n",
    "data_1 = data_1.merge(g_cout, on = 'County')\n",
    "\n",
    "# get the percentage of title 1 schools in the whole county\n",
    "data_1['title one'] = (g_cout['# of Title 1 Schools']/g_cout['Number of Schools'])*100"
   ]
  },
  {
   "cell_type": "markdown",
   "id": "f5a2dfa4-91d2-4300-bdff-132c53d73d82",
   "metadata": {},
   "source": [
    "## Precipitation"
   ]
  },
  {
   "cell_type": "markdown",
   "id": "95bb20b8",
   "metadata": {},
   "source": [
    "Steps of analysis: \n",
    "1. Calculated the % change of the precipitation per decade (increase or decrease) (Average inches of rain in that decade / historical baseline 1950-1999 (inches of rain) ) x 100\n",
    "2. Combined the calculated percentages, % of title one, % precipitation change, % of Unduplicated Students When combining these percentages, a weight of 0.33 had to be multiplied by each feature. This would calculate the weighted average between all features allowing a balance within the score used.\n",
    "3. Based on those scores the score is at the 75th percentile and the score at the 50th percentile to apply a filter for the necessary data points *Solely based on the range of values*\n",
    "4. Using those values a filer was applied to find all the counties above the 75th percentile and between the 50th and 75th percentile for the next 25% vulnerable.\n",
    "5. Once all points are filtered, the corresponding values are summed up to get the number on the table, [ number of schools, student enrollment, number of districts, number of counties within that percent].\n",
    "\n",
    "\n"
   ]
  },
  {
   "cell_type": "code",
   "execution_count": 9,
   "id": "50e8ec49",
   "metadata": {},
   "outputs": [
    {
     "name": "stdout",
     "output_type": "stream",
     "text": [
      "Number of counties in the top 25%: 18\n",
      "Number of Schools         4920\n",
      "Student Enrollment     2897906\n",
      "Grade Levels               405\n",
      "dtype: int64\n",
      "Number of counties in the next 25%: 20\n",
      "Number of Schools        1799\n",
      "Student Enrollment     927046\n",
      "Grade Levels              226\n",
      "dtype: int64\n",
      "Num schools:  6719\n",
      "Students:  3824952\n",
      "Num districts:  631\n"
     ]
    }
   ],
   "source": [
    "analyze_data(data_1, simplified_table,\n",
    "             '2020-2029 (2025) Difference from Baseline (in)', \n",
    "             'Precip Baseline', \n",
    "             'Precipitation')"
   ]
  },
  {
   "cell_type": "markdown",
   "id": "1857d0e9-2300-4a3c-b633-40e34403af33",
   "metadata": {},
   "source": [
    "## Storm Events"
   ]
  },
  {
   "cell_type": "markdown",
   "id": "b011b2a0",
   "metadata": {},
   "source": [
    "Steps of analysis: \n",
    "1. Calculated the % change of the storm events per decade (increase or decrease)\n",
    "(Average # of storm events in that decade / historical baseline 1950-1999 (storm events)) x 100\n",
    "2. Combined the calculated percentages, % of title one, % precipitation change, % of Unduplicated Students When combining these percentages, a weight of 0.33 had to be multiplied by each feature. This would calculate the weighted average between all features allowing a balance within the score used.\n",
    "3. Based on those scores the score is at the 75th percentile and the score at the 50th percentile to apply a filter for the necessary data points *Solely based on the range of values*\n",
    "4. Using those values a filer was applied to find all the counties above the 75th percentile and between the 50th and 75th percentile for the next 25% vulnerable.\n",
    "5. Once all points are filtered, the corresponding values are summed up to get the number on the table, [ number of schools, student enrollment, number of districts, number of counties within that percent]."
   ]
  },
  {
   "cell_type": "code",
   "execution_count": 11,
   "id": "a836711b",
   "metadata": {},
   "outputs": [
    {
     "name": "stdout",
     "output_type": "stream",
     "text": [
      "Number of counties in the top 25%: 10\n",
      "Number of Schools        1143\n",
      "Student Enrollment     614456\n",
      "Grade Levels              169\n",
      "dtype: int64\n",
      "Number of counties in the next 25%: 12\n",
      "Number of Schools         4094\n",
      "Student Enrollment     2447074\n",
      "Grade Levels               272\n",
      "dtype: int64\n",
      "Num schools:  5237\n",
      "Students:  3061530\n",
      "Num districts:  441\n"
     ]
    }
   ],
   "source": [
    "analyze_data(data_1, simplified_table,\n",
    "             '2020-2029 (2025) Storm Events (per yr)', \n",
    "             'Modeled Historical Baseline 1950-1999 (1975) Storm Events (per yr)', \n",
    "             'Storms')"
   ]
  }
 ],
 "metadata": {
  "kernelspec": {
   "display_name": "ts_ci",
   "language": "python",
   "name": "python3"
  },
  "language_info": {
   "codemirror_mode": {
    "name": "ipython",
    "version": 3
   },
   "file_extension": ".py",
   "mimetype": "text/x-python",
   "name": "python",
   "nbconvert_exporter": "python",
   "pygments_lexer": "ipython3",
   "version": "3.12.5"
  }
 },
 "nbformat": 4,
 "nbformat_minor": 5
}
